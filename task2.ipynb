{
 "cells": [
  {
   "cell_type": "code",
   "execution_count": 13,
   "metadata": {},
   "outputs": [],
   "source": [
    "import pandas as pd\n",
    "from utils import get_all_csv_filepaths\n",
    "from typing import Generator\n",
    "\n",
    "chunk_size = 10000\n",
    "file_paths = get_all_csv_filepaths()[0]\n",
    "\n",
    "\n",
    "def get_chunks(file_path: str, chunk_size: int) -> Generator[pd.DataFrame, None, None]:\n",
    "    chunks = pd.read_csv(file_path, chunksize=chunk_size)\n",
    "    for chunk in chunks:\n",
    "        yield chunk\n",
    "\n",
    "\n",
    "chunks = get_chunks(file_paths, chunk_size)\n",
    "\n",
    "# 初始化一个空的DataFrame来存储最终结果\n",
    "filtered_df = pd.DataFrame()"
   ]
  },
  {
   "cell_type": "code",
   "execution_count": 22,
   "metadata": {},
   "outputs": [],
   "source": [
    "# 提取出“文书内容”列中包含的出生年月，将其存储到filtered_df中的新列“出生年月”中\n",
    "for chunk in chunks:\n",
    "    filtered_chunk = chunk[chunk[\"文书内容\"].notnull()].copy()\n",
    "    filtered_chunk.loc[:, \"出生年月\"] = filtered_chunk[\"文书内容\"].str.extract(r\"(\\d{4}年\\d{1,2}月\\d{1,2}日)\")\n",
    "    # 将日期格式转换为datetime格式\n",
    "    filtered_chunk[\"出生年月\"] = pd.to_datetime(filtered_chunk[\"出生年月\"], format=\"%Y年%m月%d日\", errors=\"coerce\")\n",
    "    break"
   ]
  }
 ],
 "metadata": {
  "kernelspec": {
   "display_name": "venv",
   "language": "python",
   "name": "python3"
  },
  "language_info": {
   "codemirror_mode": {
    "name": "ipython",
    "version": 3
   },
   "file_extension": ".py",
   "mimetype": "text/x-python",
   "name": "python",
   "nbconvert_exporter": "python",
   "pygments_lexer": "ipython3",
   "version": "3.10.11"
  }
 },
 "nbformat": 4,
 "nbformat_minor": 2
}
